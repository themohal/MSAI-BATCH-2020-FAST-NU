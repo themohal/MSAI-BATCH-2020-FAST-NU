{
  "nbformat": 4,
  "nbformat_minor": 0,
  "metadata": {
    "colab": {
      "name": "Assignment 1 AAI",
      "provenance": [],
      "collapsed_sections": [],
      "authorship_tag": "ABX9TyPDQrbOHBh4fxneno1m8rOn",
      "include_colab_link": true
    },
    "kernelspec": {
      "name": "python3",
      "display_name": "Python 3"
    }
  },
  "cells": [
    {
      "cell_type": "markdown",
      "metadata": {
        "id": "view-in-github",
        "colab_type": "text"
      },
      "source": [
        "<a href=\"https://colab.research.google.com/github/themohal/MSAI-BATCH-2020-FAST-NU/blob/main/Assignment_1_AAI.ipynb\" target=\"_parent\"><img src=\"https://colab.research.google.com/assets/colab-badge.svg\" alt=\"Open In Colab\"/></a>"
      ]
    },
    {
      "cell_type": "code",
      "metadata": {
        "id": "UX-Pv-piZ6Eg"
      },
      "source": [
        "'''\n",
        "Assignment No.1\n",
        "Name : Muhammad Farjad Ali Raza\n",
        "Student ID: 20I2273\n",
        "Submitted To: Dr. Omer Baig\n",
        "Subject: Adv AI\n",
        "Semester :01\n",
        "Department: MSAI\n",
        "'''\n",
        "#Start of Program\n",
        "from google.colab import drive #importing drive library \n",
        "import math #math library to use ceil function on RI\n",
        "drive.mount('/content/drive/') #mounting drive\n",
        "print(\"Connected to Google Drive\")  "
      ],
      "execution_count": null,
      "outputs": []
    },
    {
      "cell_type": "code",
      "metadata": {
        "id": "5I0WLTysu1eN"
      },
      "source": [
        "#count_chars() function takes text as argument and calculates number of characters in consideration with punctuation rules\n",
        "def count_chars(txt):\n",
        "  # define punctuation\n",
        "  punctuations = ''' !()-[]{};:'\"\\,<>./?@#$%^&*_~\\’\\n'''\n",
        "  result = 0\n",
        "  if txt ==\"\" or txt==\" \":\n",
        "    result = 1\n",
        "  else:\n",
        "    no_punct = \"\"\n",
        "    for char in txt:\n",
        "      if char not in punctuations:\n",
        "        no_punct = no_punct + char\n",
        "        result += 1\n",
        "  #print(no_punct)\n",
        "  return result"
      ],
      "execution_count": null,
      "outputs": []
    },
    {
      "cell_type": "code",
      "metadata": {
        "id": "K1T8kyy5l7ql"
      },
      "source": [
        "#count_words function takes text as argument and calculates number of words with some punctuations rules\n",
        "def count_words(txt):\n",
        "  punctuations = '''-,.\\’\\n'''\n",
        "  new_txt = txt\n",
        "  if txt ==\"\" or txt==\" \":\n",
        "    result = 1\n",
        "  else:\n",
        "    for char in punctuations:\n",
        "      new_txt = new_txt.replace(char,' ')\n",
        "      #print(new_txt)\n",
        "  result = len(new_txt.split()) \n",
        "  #print(new_txt.split())\n",
        "  return result"
      ],
      "execution_count": null,
      "outputs": []
    },
    {
      "cell_type": "code",
      "metadata": {
        "id": "nG-q_z4qmD9_"
      },
      "source": [
        "#count_sentences() function calculates number of sentences inside text file\n",
        "def count_sentences(txt):\n",
        "  punctuations = '''.!?:;\\n'''\n",
        "  result = 0\n",
        "  if txt ==\"\" or txt==\" \":\n",
        "    result = 1\n",
        "  else:\n",
        "    for char in txt:\n",
        "      if char in punctuations:\n",
        "        result += 1\n",
        "  return result"
      ],
      "execution_count": null,
      "outputs": []
    },
    {
      "cell_type": "code",
      "metadata": {
        "id": "sRhsSvgdmJur"
      },
      "source": [
        "#calculate_ri() function calculates Readability Index\n",
        "def calculate_ri(char,word,sentence):\n",
        "  result = 0\n",
        "  if char and word and sentence >= 0:\n",
        "    result = math.ceil(4.7*(char/word)+0.5*(word/sentence)-21.43)\n",
        "  if result>0:\n",
        "    return result\n",
        "  else:\n",
        "    return 0\n",
        "\n"
      ],
      "execution_count": null,
      "outputs": []
    },
    {
      "cell_type": "code",
      "metadata": {
        "id": "lq9EAbhFjQrJ"
      },
      "source": [
        "#process_text() function takes text file path as argument and then opens the file and passes it to other functions to get results and then display \n",
        "def process_text(txt):\n",
        "  try:\n",
        "    text = open(''+txt,\"r\").read() #reading file from drive\n",
        "    char_count = count_chars(text)     #character counting function call\n",
        "    word_count = count_words(text)     #words counting function call\n",
        "    sentence_count = count_sentences(text) #sentence counting function call\n",
        "    readability_index = calculate_ri(char_count,word_count,sentence_count)  # readability index calculating function call\n",
        "    #displaying results\n",
        "    print(\"Number of sentences: \", sentence_count)\n",
        "    print(\"Number of words: \",word_count)\n",
        "    print(\"Number of characters: \",char_count)\n",
        "    print(\"Readability Index: \",readability_index)\n",
        "    print(\"\\n\")\n",
        "  except OSError as e:\n",
        "    print(e)  #error handling\n",
        "  "
      ],
      "execution_count": null,
      "outputs": []
    },
    {
      "cell_type": "code",
      "metadata": {
        "id": "7qPIy7Ijj7gk"
      },
      "source": [
        "path = '/content/drive/My Drive/AAI/Assignment1/' #path is from Google drive you can change if its local \n",
        "filename =\"text2.txt\"            #your filename here \n",
        "process_text(path+filename) # process_txt() takes file path and name as argument and returns all the results\n",
        "\n",
        "\n",
        "#For Automation\n",
        "#for i in range(1,8):\n",
        " # print(\"Processed Text \"+str(i))\n",
        "  #process_text('/content/drive/My Drive/AAI/Assignment1/text'+str(i)+'.txt')\n",
        "\n",
        "#END OF Program"
      ],
      "execution_count": null,
      "outputs": []
    },
    {
      "cell_type": "code",
      "metadata": {
        "id": "fkkWmB6smQbH"
      },
      "source": [
        ""
      ],
      "execution_count": null,
      "outputs": []
    }
  ]
}